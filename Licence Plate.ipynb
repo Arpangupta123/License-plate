{
 "cells": [
  {
   "cell_type": "code",
   "execution_count": 1,
   "metadata": {},
   "outputs": [
    {
     "name": "stdout",
     "output_type": "stream",
     "text": [
      "(1080, 1920)\n"
     ]
    },
    {
     "data": {
      "text/plain": [
       "<Figure size 640x480 with 2 Axes>"
      ]
     },
     "metadata": {},
     "output_type": "display_data"
    },
    {
     "data": {
      "text/plain": [
       "<Figure size 640x480 with 1 Axes>"
      ]
     },
     "metadata": {},
     "output_type": "display_data"
    },
    {
     "data": {
      "text/plain": [
       "<Figure size 640x480 with 1 Axes>"
      ]
     },
     "metadata": {},
     "output_type": "display_data"
    }
   ],
   "source": [
    "from skimage.io import imread\n",
    "from skimage.filters import threshold_otsu\n",
    "import matplotlib.pyplot as plt\n",
    "\n",
    "filename = './video12.mp4'\n",
    "\n",
    "import cv2\n",
    "cap = cv2.VideoCapture(filename)\n",
    "\n",
    "count = 0\n",
    "while cap.isOpened():\n",
    "    ret,frame = cap.read()\n",
    "    if ret == True:\n",
    "        cv2.imshow('window-name',frame)\n",
    "        cv2.imwrite(\"./output/frame%d.jpg\" % count, frame)\n",
    "        count = count + 1\n",
    "        if cv2.waitKey(10) & 0xFF == ord('q'):\n",
    "            break\n",
    "    else:\n",
    "        break\n",
    "cap.release()\n",
    "cv2.destroyAllWindows()\n",
    "\n",
    "\n",
    "import imutils\n",
    "car_image = imread(\"./output/frame%d.jpg\"%(count-1), as_gray=True)\n",
    "car_image = imutils.rotate(car_image, 270)\n",
    "\n",
    "print(car_image.shape)\n",
    "\n",
    "\n",
    "\n",
    "gray_car_image = car_image * 255\n",
    "fig, (ax1, ax2) = plt.subplots(1, 2)\n",
    "ax1.imshow(gray_car_image, cmap=\"gray\")\n",
    "threshold_value = threshold_otsu(gray_car_image)\n",
    "binary_car_image = gray_car_image > threshold_value\n",
    "\n",
    "ax2.imshow(binary_car_image, cmap=\"gray\")\n",
    "\n",
    "plt.show()\n",
    "\n",
    "\n",
    "\n",
    "\n",
    "from skimage import measure\n",
    "from skimage.measure import regionprops\n",
    "import matplotlib.pyplot as plt\n",
    "import matplotlib.patches as patches\n",
    "\n",
    "\n",
    "label_image = measure.label(binary_car_image)\n",
    "\n",
    "\n",
    "\n",
    "\n",
    "plate_dimensions = (0.03*label_image.shape[0], 0.08*label_image.shape[0], 0.15*label_image.shape[1], 0.3*label_image.shape[1])\n",
    "plate_dimensions2 = (0.08*label_image.shape[0], 0.2*label_image.shape[0], 0.15*label_image.shape[1], 0.4*label_image.shape[1])\n",
    "min_height, max_height, min_width, max_width = plate_dimensions\n",
    "plate_objects_cordinates = []\n",
    "plate_like_objects = []\n",
    "\n",
    "fig, (ax1) = plt.subplots(1)\n",
    "ax1.imshow(gray_car_image, cmap=\"gray\")\n",
    "flag =0\n",
    "\n",
    "for region in regionprops(label_image):\n",
    "   \n",
    "    if region.area < 50:\n",
    "        \n",
    "        continue\n",
    "       \n",
    "    min_row, min_col, max_row, max_col = region.bbox\n",
    "   \n",
    "\n",
    "    region_height = max_row - min_row\n",
    "    region_width = max_col - min_col\n",
    "    \n",
    "    if region_height >= min_height and region_height <= max_height and region_width >= min_width and region_width <= max_width and region_width > region_height:\n",
    "        flag = 1\n",
    "        plate_like_objects.append(binary_car_image[min_row:max_row,\n",
    "                                  min_col:max_col])\n",
    "        plate_objects_cordinates.append((min_row, min_col,\n",
    "                                         max_row, max_col))\n",
    "        rectBorder = patches.Rectangle((min_col, min_row), max_col - min_col, max_row - min_row, edgecolor=\"red\",\n",
    "                                       linewidth=2, fill=False)\n",
    "        ax1.add_patch(rectBorder)\n",
    "        \n",
    "if(flag == 1):\n",
    "   \n",
    "    plt.show()\n",
    "\n",
    "\n",
    "\n",
    "\n",
    "if(flag==0):\n",
    "    min_height, max_height, min_width, max_width = plate_dimensions2\n",
    "    plate_objects_cordinates = []\n",
    "    plate_like_objects = []\n",
    "\n",
    "    fig, (ax1) = plt.subplots(1)\n",
    "    ax1.imshow(gray_car_image, cmap=\"gray\")\n",
    "\n",
    "    \n",
    "    for region in regionprops(label_image):\n",
    "        if region.area < 50:\n",
    "           \n",
    "            continue\n",
    "            \n",
    "        min_row, min_col, max_row, max_col = region.bbox\n",
    "        \n",
    "\n",
    "        region_height = max_row - min_row\n",
    "        region_width = max_col - min_col\n",
    "       \n",
    "        if region_height >= min_height and region_height <= max_height and region_width >= min_width and region_width <= max_width and region_width > region_height:\n",
    "            \n",
    "            plate_like_objects.append(binary_car_image[min_row:max_row,\n",
    "                                      min_col:max_col])\n",
    "            plate_objects_cordinates.append((min_row, min_col,\n",
    "                                             max_row, max_col))\n",
    "            rectBorder = patches.Rectangle((min_col, min_row), max_col - min_col, max_row - min_row, edgecolor=\"red\",\n",
    "                                           linewidth=2, fill=False)\n",
    "            ax1.add_patch(rectBorder)\n",
    "            \n",
    "    plt.show()"
   ]
  },
  {
   "cell_type": "code",
   "execution_count": null,
   "metadata": {},
   "outputs": [],
   "source": [
    "import numpy as np\n",
    "from skimage.transform import resize\n",
    "from skimage import measure\n",
    "from skimage.measure import regionprops\n",
    "import matplotlib.patches as patches\n",
    "import matplotlib.pyplot as plt\n",
    "import DetectPlate\n",
    "\n",
    "license_plate = np.invert(DetectPlate.plate_like_objects[0])\n",
    "\n",
    "labelled_plate = measure.label(license_plate)\n",
    "\n",
    "fig, ax1 = plt.subplots(1)\n",
    "ax1.imshow(license_plate, cmap=\"gray\")\n",
    "\n",
    "character_dimensions = (0.35*license_plate.shape[0], 0.60*license_plate.shape[0], 0.05*license_plate.shape[1], 0.15*license_plate.shape[1])\n",
    "min_height, max_height, min_width, max_width = character_dimensions\n",
    "\n",
    "characters = []\n",
    "counter=0\n",
    "column_list = []\n",
    "for regions in regionprops(labelled_plate):\n",
    "    y0, x0, y1, x1 = regions.bbox\n",
    "    region_height = y1 - y0\n",
    "    region_width = x1 - x0\n",
    "\n",
    "    if region_height > min_height and region_height < max_height and region_width > min_width and region_width < max_width:\n",
    "        roi = license_plate[y0:y1, x0:x1]\n",
    "\n",
    "        rect_border = patches.Rectangle((x0, y0), x1 - x0, y1 - y0, edgecolor=\"red\",\n",
    "                                       linewidth=2, fill=False)\n",
    "        ax1.add_patch(rect_border)\n",
    "\n",
    "        resized_char = resize(roi, (20, 20))\n",
    "        characters.append(resized_char)\n",
    "\n",
    "        column_list.append(x0)\n",
    "\n",
    "plt.show()"
   ]
  },
  {
   "cell_type": "code",
   "execution_count": 4,
   "metadata": {},
   "outputs": [
    {
     "name": "stdout",
     "output_type": "stream",
     "text": [
      "reading data\n",
      "reading data completed\n",
      "Cross Validation Result for  4  -fold\n",
      "[ 96.07843137  99.01960784  97.05882353 100.        ]\n",
      "training model\n",
      "model trained.saving model..\n",
      "model saved\n"
     ]
    }
   ],
   "source": [
    "import os\n",
    "import numpy as np\n",
    "from sklearn.svm import SVC\n",
    "from sklearn.model_selection import cross_val_score\n",
    "from sklearn.externals import joblib\n",
    "from skimage.io import imread\n",
    "from skimage.filters import threshold_otsu\n",
    "\n",
    "letters = [\n",
    "            '0', '1', '2', '3', '4', '5', '6', '7', '8', '9', 'A', 'B', 'C', 'D',\n",
    "            'E', 'F', 'G', 'H', 'J', 'K', 'L', 'M', 'N', 'P', 'Q', 'R', 'S', 'T',\n",
    "            'U', 'V', 'W', 'X', 'Y', 'Z'\n",
    "        ]\n",
    "\n",
    "def read_training_data(training_directory):\n",
    "    image_data = []\n",
    "    target_data = []\n",
    "    for each_letter in letters:\n",
    "        for each in range(10):\n",
    "            image_path = os.path.join(training_directory, each_letter, each_letter + '_' + str(each) + '.jpg')\n",
    "            \n",
    "            img_details = imread(image_path, as_gray=True)\n",
    "           \n",
    "            binary_image = img_details < threshold_otsu(img_details)\n",
    "          \n",
    "            flat_bin_image = binary_image.reshape(-1)\n",
    "            image_data.append(flat_bin_image)\n",
    "            target_data.append(each_letter)\n",
    "\n",
    "    return (np.array(image_data), np.array(target_data))\n",
    "\n",
    "def cross_validation(model, num_of_fold, train_data, train_label):\n",
    "   \n",
    "    accuracy_result = cross_val_score(model, train_data, train_label,\n",
    "                                      cv=num_of_fold)\n",
    "    print(\"Cross Validation Result for \", str(num_of_fold), \" -fold\")\n",
    "\n",
    "    print(accuracy_result * 100)\n",
    "\n",
    "\n",
    "print('reading data')\n",
    "training_dataset_dir = './train20X20'\n",
    "image_data, target_data = read_training_data(training_dataset_dir)\n",
    "print('reading data completed')\n",
    "\n",
    "svc_model = SVC(kernel='linear', probability=True)\n",
    "\n",
    "cross_validation(svc_model, 4, image_data, target_data)\n",
    "\n",
    "print('training model')\n",
    "\n",
    "svc_model.fit(image_data, target_data)\n",
    "\n",
    "\n",
    "import pickle\n",
    "print(\"model trained.saving model..\")\n",
    "filename = './finalized_model.sav'\n",
    "pickle.dump(svc_model, open(filename, 'wb'))\n",
    "print(\"model saved\")"
   ]
  },
  {
   "cell_type": "code",
   "execution_count": 5,
   "metadata": {},
   "outputs": [
    {
     "name": "stdout",
     "output_type": "stream",
     "text": [
      "Loading model\n",
      "Model loaded. Predicting characters of number plate\n",
      "Classification result\n",
      "[array(['F'], dtype='<U1'), array(['T'], dtype='<U1'), array(['S'], dtype='<U1'), array(['0'], dtype='<U1'), array(['7'], dtype='<U1'), array(['F'], dtype='<U1'), array(['X'], dtype='<U1'), array(['3'], dtype='<U1'), array(['5'], dtype='<U1'), array(['3'], dtype='<U1'), array(['4'], dtype='<U1')]\n",
      "Predicted license plate\n",
      "FTS07FX3534\n",
      "License plate\n",
      "FTS07FX3534\n"
     ]
    }
   ],
   "source": [
    "import pickle\n",
    "print(\"Loading model\")\n",
    "filename = './finalized_model.sav'\n",
    "model = pickle.load(open(filename, 'rb'))\n",
    "\n",
    "print('Model loaded. Predicting characters of number plate')\n",
    "classification_result = []\n",
    "for each_character in characters:\n",
    "   \n",
    "    each_character = each_character.reshape(1, -1);\n",
    "    result = model.predict(each_character)\n",
    "    classification_result.append(result)\n",
    "\n",
    "print('Classification result')\n",
    "print(classification_result)\n",
    "\n",
    "plate_string = ''\n",
    "for eachPredict in classification_result:\n",
    "    plate_string += eachPredict[0]\n",
    "\n",
    "print('Predicted license plate')\n",
    "print(plate_string)\n",
    "\n",
    "\n",
    "column_list_copy = column_list[:]\n",
    "column_list.sort()\n",
    "rightplate_string = ''\n",
    "for each in column_list:\n",
    "    rightplate_string += plate_string[column_list_copy.index(each)]\n",
    "\n",
    "print('License plate')\n",
    "print(rightplate_string)"
   ]
  },
  {
   "cell_type": "code",
   "execution_count": 10,
   "metadata": {},
   "outputs": [],
   "source": [
    "import pandas as pd\n",
    "dataset = pd.read_csv('data.csv')"
   ]
  },
  {
   "cell_type": "code",
   "execution_count": 12,
   "metadata": {},
   "outputs": [
    {
     "data": {
      "text/html": [
       "<div>\n",
       "<style scoped>\n",
       "    .dataframe tbody tr th:only-of-type {\n",
       "        vertical-align: middle;\n",
       "    }\n",
       "\n",
       "    .dataframe tbody tr th {\n",
       "        vertical-align: top;\n",
       "    }\n",
       "\n",
       "    .dataframe thead th {\n",
       "        text-align: right;\n",
       "    }\n",
       "</style>\n",
       "<table border=\"1\" class=\"dataframe\">\n",
       "  <thead>\n",
       "    <tr style=\"text-align: right;\">\n",
       "      <th></th>\n",
       "      <th>License Plate</th>\n",
       "      <th>Car Name</th>\n",
       "    </tr>\n",
       "  </thead>\n",
       "  <tbody>\n",
       "    <tr>\n",
       "      <th>95</th>\n",
       "      <td>DL 3455</td>\n",
       "      <td>iisk</td>\n",
       "    </tr>\n",
       "    <tr>\n",
       "      <th>96</th>\n",
       "      <td>DL 3258</td>\n",
       "      <td>inuq</td>\n",
       "    </tr>\n",
       "    <tr>\n",
       "      <th>97</th>\n",
       "      <td>DL 7013</td>\n",
       "      <td>zzjz</td>\n",
       "    </tr>\n",
       "    <tr>\n",
       "      <th>98</th>\n",
       "      <td>DL 0145</td>\n",
       "      <td>spua</td>\n",
       "    </tr>\n",
       "    <tr>\n",
       "      <th>99</th>\n",
       "      <td>TS07FX3534</td>\n",
       "      <td>hzdw</td>\n",
       "    </tr>\n",
       "  </tbody>\n",
       "</table>\n",
       "</div>"
      ],
      "text/plain": [
       "   License Plate Car Name\n",
       "95       DL 3455     iisk\n",
       "96       DL 3258     inuq\n",
       "97       DL 7013     zzjz\n",
       "98       DL 0145     spua\n",
       "99    TS07FX3534     hzdw"
      ]
     },
     "execution_count": 12,
     "metadata": {},
     "output_type": "execute_result"
    }
   ],
   "source": [
    "dataset.tail()\n"
   ]
  },
  {
   "cell_type": "code",
   "execution_count": 13,
   "metadata": {},
   "outputs": [
    {
     "name": "stdout",
     "output_type": "stream",
     "text": [
      "checking the car is of the society or not.\n"
     ]
    }
   ],
   "source": [
    "print(\"checking the car is of the society or not.\")"
   ]
  },
  {
   "cell_type": "code",
   "execution_count": 23,
   "metadata": {},
   "outputs": [
    {
     "name": "stdout",
     "output_type": "stream",
     "text": [
      "hello\n"
     ]
    }
   ],
   "source": [
    "str1='TS07FX3534'\n",
    "x=dataset['License Plate'].values\n",
    "for i in range(1,100):\n",
    "    if x[i]==str1:\n",
    "        print(\"hello\")\n",
    "    "
   ]
  },
  {
   "cell_type": "code",
   "execution_count": null,
   "metadata": {},
   "outputs": [],
   "source": []
  }
 ],
 "metadata": {
  "kernelspec": {
   "display_name": "Python 3",
   "language": "python",
   "name": "python3"
  },
  "language_info": {
   "codemirror_mode": {
    "name": "ipython",
    "version": 3
   },
   "file_extension": ".py",
   "mimetype": "text/x-python",
   "name": "python",
   "nbconvert_exporter": "python",
   "pygments_lexer": "ipython3",
   "version": "3.7.3"
  }
 },
 "nbformat": 4,
 "nbformat_minor": 2
}
